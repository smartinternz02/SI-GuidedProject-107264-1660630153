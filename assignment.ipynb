{
  "nbformat": 4,
  "nbformat_minor": 0,
  "metadata": {
    "colab": {
      "name": "Untitled0.ipynb",
      "provenance": [],
      "collapsed_sections": []
    },
    "kernelspec": {
      "name": "python3",
      "display_name": "Python 3"
    },
    "language_info": {
      "name": "python"
    }
  },
  "cells": [
    {
      "cell_type": "markdown",
      "source": [
        "What is 7 to the power of 4?"
      ],
      "metadata": {
        "id": "fNf1ATCyfmRW"
      }
    },
    {
      "cell_type": "code",
      "source": [
        "print(7**4)"
      ],
      "metadata": {
        "colab": {
          "base_uri": "https://localhost:8080/"
        },
        "id": "riH_oukKd_Ra",
        "outputId": "8faa3a4d-f57d-4d49-aaa7-1f9b5f50b236"
      },
      "execution_count": 8,
      "outputs": [
        {
          "output_type": "stream",
          "name": "stdout",
          "text": [
            "2401\n"
          ]
        }
      ]
    },
    {
      "cell_type": "markdown",
      "source": [
        "Split the string:“Hi there Sam!”"
      ],
      "metadata": {
        "id": "uG4lqUFkecW3"
      }
    },
    {
      "cell_type": "code",
      "source": [
        "string = \"Hi there Sam!\"\n",
        "print(string.split())\n",
        "output: ['Hi', 'there', 'Sam!']"
      ],
      "metadata": {
        "colab": {
          "base_uri": "https://localhost:8080/"
        },
        "id": "TFPZdHK7erR3",
        "outputId": "c930d81c-9871-4491-c154-867640684887"
      },
      "execution_count": 4,
      "outputs": [
        {
          "output_type": "stream",
          "name": "stdout",
          "text": [
            "['Hi', 'there', 'Sam!']\n"
          ]
        }
      ]
    },
    {
      "cell_type": "markdown",
      "source": [
        "Given the variables:\n",
        "\n",
        "planet = \"Earth\"\n",
        "diameter = 12742"
      ],
      "metadata": {
        "id": "3mx4DKTgeyO0"
      }
    },
    {
      "cell_type": "code",
      "source": [
        "planet = \"Earth\"\n",
        "diameter = 12742\n",
        "\n",
        "print(\"The diameter of {} is {} kilometers.\".format(planet, diameter))\n"
      ],
      "metadata": {
        "colab": {
          "base_uri": "https://localhost:8080/"
        },
        "id": "qx3j24cPfMe7",
        "outputId": "6e56a12e-0f1a-4ca6-f817-b6b4bb3d2c61"
      },
      "execution_count": 6,
      "outputs": [
        {
          "output_type": "stream",
          "name": "stdout",
          "text": [
            "The diameter of Earth is 12742 kilometers.\n"
          ]
        }
      ]
    },
    {
      "cell_type": "markdown",
      "source": [
        "Given this nested list, use indexing to grab the word “hello”\n",
        "\n",
        "lst = [1,2,[3,4],[5,[100,200,['hello']],23,11],1,7]"
      ],
      "metadata": {
        "id": "05EFxe2IfR8_"
      }
    },
    {
      "cell_type": "code",
      "source": [
        "lst = [1,2,[3,4],[5,[100,200,['hello']],23,11],1,7]\n",
        "print(lst[3][1][2][0])"
      ],
      "metadata": {
        "colab": {
          "base_uri": "https://localhost:8080/"
        },
        "id": "mnMg7ZalfWce",
        "outputId": "8a3b9667-5b8c-46c3-c00f-a407907589e9"
      },
      "execution_count": 7,
      "outputs": [
        {
          "output_type": "stream",
          "name": "stdout",
          "text": [
            "hello\n"
          ]
        }
      ]
    },
    {
      "cell_type": "markdown",
      "source": [
        "Given this nested dictionary grab the word “Hello”.\n",
        "\n",
        "d = {'k1':[1,2,3,{'tricky':['oh','man','inception',{'target':[1,2,3,'hello']}]}]}"
      ],
      "metadata": {
        "id": "kS3wyn1Gf6cs"
      }
    },
    {
      "cell_type": "code",
      "source": [
        "d = {'k1':[1,2,3,{'tricky':['oh','man','inception',{'target':[1,2,3,'hello']}]}]}\n",
        "print(d['k1'][3][\"tricky\"][3]['target'][3])"
      ],
      "metadata": {
        "colab": {
          "base_uri": "https://localhost:8080/"
        },
        "id": "lH2gBDT8f9QA",
        "outputId": "5592f280-dc09-4e67-ec6a-3c6789a41980"
      },
      "execution_count": 11,
      "outputs": [
        {
          "output_type": "stream",
          "name": "stdout",
          "text": [
            "hello\n"
          ]
        }
      ]
    },
    {
      "cell_type": "markdown",
      "source": [
        "What is the main difference between a Tuple and a List?"
      ],
      "metadata": {
        "id": "yVphtKFwh8JK"
      }
    },
    {
      "cell_type": "code",
      "source": [
        "t = (1, 2, 3)\n",
        "list = [1, 2, 3, 4, 5]"
      ],
      "metadata": {
        "id": "5ueHzTxIiQD-"
      },
      "execution_count": 12,
      "outputs": []
    },
    {
      "cell_type": "markdown",
      "source": [
        "Create a function that grabs the email website domain from a string into the form:\n",
        "\n",
        "for example, passing “user@domain.com” will return: domain.com"
      ],
      "metadata": {
        "id": "JPeHobVHic97"
      }
    },
    {
      "cell_type": "code",
      "source": [
        "def domainGet(email):\n",
        "    print(\"Your domain is: \" + email.split('@')[-1])\n",
        "\n",
        "email = input(\"Please enter your email: >\")\n",
        "domainGet(email)"
      ],
      "metadata": {
        "colab": {
          "base_uri": "https://localhost:8080/"
        },
        "id": "8sP96SAMieMu",
        "outputId": "8e23237b-0f05-4415-f4df-3918963f6ff3"
      },
      "execution_count": 15,
      "outputs": [
        {
          "output_type": "stream",
          "name": "stdout",
          "text": [
            "Please enter your email: >user@domain.com\n",
            "Your domain is: domain.com\n"
          ]
        }
      ]
    },
    {
      "cell_type": "markdown",
      "source": [
        "Create a basic function that returns True if the word ‘dog’ is contained in the input string. No need to worry about the edge cases"
      ],
      "metadata": {
        "id": "SUNN0zjCii8J"
      }
    },
    {
      "cell_type": "code",
      "source": [
        "def findDog(st):\n",
        "    if 'dog' in st.lower():\n",
        "        print(\"True\")\n",
        "    else:\n",
        "        print(\"False\")\n",
        "\n",
        "st = input(\"Please key a string: >\")\n",
        "findDog(st)\n"
      ],
      "metadata": {
        "colab": {
          "base_uri": "https://localhost:8080/"
        },
        "id": "i2qkkO14io0f",
        "outputId": "f564a960-979c-4fd8-fe47-8017ca0a1ad1"
      },
      "execution_count": 16,
      "outputs": [
        {
          "output_type": "stream",
          "name": "stdout",
          "text": [
            "Please key a string: >dog\n",
            "True\n"
          ]
        }
      ]
    },
    {
      "cell_type": "markdown",
      "source": [
        "Create a function that counts the number of times the word “dog” occurs in a string. Again ignore edge cases."
      ],
      "metadata": {
        "id": "7UJIbFfoiszy"
      }
    },
    {
      "cell_type": "code",
      "source": [
        "#-*- coding: utf-8 -*-\n",
        "#User/johnny.lu/Download/python3/PCCE/ex9.py\n",
        "\n",
        "'''\n",
        "**Create a function that counts the number of times the word \"dog\"\n",
        "occurs in a string. Again ignore edge cases.**\n",
        "'''\n",
        "\n",
        "string = input(\"Please enter your string: \")\n",
        "\n",
        "def countdogs(string):\n",
        "    count = 0\n",
        "    for word in string.lower().split():\n",
        "        if word == 'dog' or word == 'dogs':\n",
        "            count = count + 1\n",
        "            print(count)\n",
        "\n",
        "countdogs(string)"
      ],
      "metadata": {
        "colab": {
          "base_uri": "https://localhost:8080/"
        },
        "id": "a49PqJksiv2M",
        "outputId": "03fdd1e3-0693-43af-ab7e-e7be1f8effbc"
      },
      "execution_count": 18,
      "outputs": [
        {
          "output_type": "stream",
          "name": "stdout",
          "text": [
            "Please enter your string: soup dog\n",
            "1\n"
          ]
        }
      ]
    },
    {
      "cell_type": "markdown",
      "source": [
        "Use lambda expressions and the filter() function to filter out words from a list that don’t start with the letter ‘s’. For example:seq = ['soup','dog','salad','cat','great']\n",
        "\n",
        "should be filtered down to:\n",
        "['soup','salad']\n",
        "\n"
      ],
      "metadata": {
        "id": "tQ-DNEaCjk2R"
      }
    },
    {
      "cell_type": "code",
      "source": [
        "seq = ['soup', 'dog','salad', 'cat', 'great']\n",
        "result = filter (lambda test: test[0] == \"s\",seq)\n",
        "print (result)\n",
        "\n",
        "seq = ['soup', 'dog','salad', 'cat', 'great']\n",
        "def checkf (input):\n",
        "    if input[0]=='s':\n",
        "            a = \"TRUE\"\n",
        "    return(a)\n",
        "test = seq[0]\n",
        "result = filter (checkf(test),seq)\n",
        "print (result)"
      ],
      "metadata": {
        "colab": {
          "base_uri": "https://localhost:8080/"
        },
        "id": "nOwFZhl0j-Mv",
        "outputId": "c6ddc9c5-afb6-490c-c388-32a1b8c6a9cb"
      },
      "execution_count": 32,
      "outputs": [
        {
          "output_type": "stream",
          "name": "stdout",
          "text": [
            "<filter object at 0x7f4f27bb7510>\n",
            "<filter object at 0x7f4f27bb7750>\n"
          ]
        }
      ]
    },
    {
      "cell_type": "markdown",
      "source": [
        "You are driving a little too fast, and a police officer stops you. Write a function to return one of 3 possible results: “No ticket”, “Small ticket”, or “Big Ticket”. If your speed is 60 or less, the result is “No Ticket”. If speed is between 61 and 80 inclusive, the result is “Small Ticket”. If speed is 81 or more, the result is “Big Ticket”. Unless it is your birthday (encoded as a boolean value in the parameters of the function) — on your birthday, your speed can be 5 higher in all cases."
      ],
      "metadata": {
        "id": "0AkDrnwhkYEc"
      }
    },
    {
      "cell_type": "code",
      "source": [
        "print(\"Please enter the speed(km/h)(only number please): \\n\")\n",
        "speed = int(input(\"> \"))\n",
        "\n",
        "print(\"Please enter your birthday: (in DD/MM/YYYY format)\\n\")\n",
        "birthday = str(input(\"> \"))\n",
        "\n",
        "def speeding(speed, birthday):\n",
        "    if birthday == '29/08/1989':\n",
        "        s = speed - 5\n",
        "    else:\n",
        "        s = speed\n",
        "\n",
        "    if s <= 60:\n",
        "        print(\"You pass.\")\n",
        "    elif s > 61 and s <= 80:\n",
        "        print(\"You get a small ticket\")\n",
        "    else:\n",
        "        print(\"You get a big ticket.\")\n",
        "\n",
        "speeding(speed, birthday)"
      ],
      "metadata": {
        "colab": {
          "base_uri": "https://localhost:8080/"
        },
        "id": "msdE2j1FkniN",
        "outputId": "66966bf4-96c2-412a-a025-b578154651af"
      },
      "execution_count": 22,
      "outputs": [
        {
          "output_type": "stream",
          "name": "stdout",
          "text": [
            "Please enter the speed(km/h)(only number please): \n",
            "\n",
            "> 85\n",
            "Please enter your birthday: (in DD/MM/YYYY format)\n",
            "\n",
            "> 26/10/2002\n",
            "You get a big ticket.\n"
          ]
        }
      ]
    }
  ]
}